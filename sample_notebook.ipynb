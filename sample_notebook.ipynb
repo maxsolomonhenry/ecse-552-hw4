{
  "nbformat": 4,
  "nbformat_minor": 0,
  "metadata": {
    "colab": {
      "name": "sample_notebook.ipynb",
      "provenance": [],
      "collapsed_sections": []
    },
    "kernelspec": {
      "name": "python3",
      "display_name": "Python 3"
    },
    "language_info": {
      "name": "python"
    }
  },
  "cells": [
    {
      "cell_type": "code",
      "execution_count": null,
      "metadata": {
        "id": "IF6XpR8nDzkQ"
      },
      "outputs": [],
      "source": [
        "# Setup.\n",
        "\n",
        "%%capture\n",
        "!pip install pytorch_lightning\n",
        "!git clone https://github.com/maxsolomonhenry/ecse-552-hw4.git\n",
        "import sys\n",
        "sys.path.append('/content/ecse-552-hw4/src/')\n",
        "sys.path.append('/content/ecse-552-hw4/data/')\n",
        "\n",
        "!curl https://transfer.sh/11hWAU/weather_train.csv -o /content/ecse-552-hw4/data/weather_train.csv\n",
        "%cd /content/ecse-552-hw4"
      ]
    },
    {
      "cell_type": "code",
      "source": [
        "# Example code use.\n",
        "\n",
        "from data import get_dataloaders\n",
        "from model import BaselineMlp\n",
        "\n",
        "train_loader, val_loader = get_dataloaders(\n",
        "    n_past=8, batch_size=128, percent_train=0.8\n",
        ")\n",
        "\n",
        "train_iter = iter(train_loader)\n",
        "x, y = next(train_iter)\n",
        "\n",
        "n_input = x.shape[1]\n",
        "n_output = y.shape[1]\n",
        "\n",
        "n_hidden = [256, 128, 64, 32]\n",
        "\n",
        "model = BaselineMlp(\n",
        "    n_input=n_input, n_hidden=n_hidden, n_output=n_output\n",
        ")\n",
        "\n",
        "print(model)"
      ],
      "metadata": {
        "id": "EytLcvJJD7g8"
      },
      "execution_count": null,
      "outputs": []
    }
  ]
}